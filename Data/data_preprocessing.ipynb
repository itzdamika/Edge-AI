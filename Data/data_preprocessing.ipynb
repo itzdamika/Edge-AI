{
 "cells": [
  {
   "cell_type": "code",
   "execution_count": 5,
   "metadata": {},
   "outputs": [
    {
     "name": "stdout",
     "output_type": "stream",
     "text": [
      "Missing :\n",
      " ts          0\n",
      "device      0\n",
      "co          0\n",
      "humidity    0\n",
      "light       0\n",
      "lpg         0\n",
      "motion      0\n",
      "smoke       0\n",
      "temp        0\n",
      "dtype: int64\n"
     ]
    }
   ],
   "source": [
    "import pandas as pd\n",
    "import numpy as np\n",
    "from sklearn.preprocessing import MinMaxScaler\n",
    "\n",
    "df = pd.read_csv(\"D:\\EDGE AI\\Edge-AI-1\\Data\\iot_telemetry_data.csv\")\n",
    "\n",
    "# Check for missing values\n",
    "print(\"Missing :\\n\", df.isnull().sum())"
   ]
  },
  {
   "cell_type": "code",
   "execution_count": 6,
   "metadata": {},
   "outputs": [
    {
     "name": "stdout",
     "output_type": "stream",
     "text": [
      "Outliers:\n",
      " {'temp': 8616, 'humidity': 44, 'co': 10480, 'lpg': 12624, 'smoke': 12271}\n"
     ]
    }
   ],
   "source": [
    "# Convert timestamp column\n",
    "df[\"ts\"] = pd.to_datetime(df[\"ts\"])\n",
    "df = df.set_index(\"ts\")\n",
    "\n",
    "features = [\"temp\", \"humidity\", \"co\", \"lpg\", \"smoke\"]\n",
    "data = df[features]\n",
    "\n",
    "# Checking for outliers\n",
    "def check_outliers(df, features):\n",
    "    outlier_counts = {}\n",
    "    for feature in features:\n",
    "        Q1 = df[feature].quantile(0.25)\n",
    "        Q3 = df[feature].quantile(0.75)\n",
    "        IQR = Q3 - Q1\n",
    "        lower_bound = Q1 - 1.5 * IQR\n",
    "        upper_bound = Q3 + 1.5 * IQR\n",
    "        outliers = df[(df[feature] < lower_bound) | (df[feature] > upper_bound)]\n",
    "        outlier_counts[feature] = len(outliers)\n",
    "    return outlier_counts\n",
    "\n",
    "# Outlier counts\n",
    "outlier_counts = check_outliers(df, features)\n",
    "print(\"Outliers:\\n\", outlier_counts)"
   ]
  },
  {
   "cell_type": "code",
   "execution_count": 7,
   "metadata": {},
   "outputs": [
    {
     "name": "stdout",
     "output_type": "stream",
     "text": [
      "Outliers replaced with NaN:\n",
      " device          0\n",
      "co          10480\n",
      "humidity       44\n",
      "light           0\n",
      "lpg         12624\n",
      "motion          0\n",
      "smoke       12271\n",
      "temp         8616\n",
      "dtype: int64\n",
      "\n",
      "Outliers after KNN Imputation:\n",
      " device      0\n",
      "co          0\n",
      "humidity    0\n",
      "light       0\n",
      "lpg         0\n",
      "motion      0\n",
      "smoke       0\n",
      "temp        0\n",
      "dtype: int64\n"
     ]
    }
   ],
   "source": [
    "from sklearn.impute import KNNImputer\n",
    "\n",
    "# Marking outliers as NaN for imputation\n",
    "def mark_outliers(df, features):\n",
    "    for feature in features:\n",
    "        Q1 = df[feature].quantile(0.25)\n",
    "        Q3 = df[feature].quantile(0.75)\n",
    "        IQR = Q3 - Q1\n",
    "        lower_bound = Q1 - 1.5 * IQR\n",
    "        upper_bound = Q3 + 1.5 * IQR\n",
    "        df.loc[(df[feature] < lower_bound) | (df[feature] > upper_bound), feature] = np.nan\n",
    "    return df\n",
    "\n",
    "# Apply outlier marking\n",
    "df = mark_outliers(df, features)\n",
    "\n",
    "# Check NaN counts after marking outliers\n",
    "print(\"Outliers replaced with NaN:\\n\", df.isnull().sum())\n",
    "print(\"\")\n",
    "\n",
    "#KNN Imputation\n",
    "imputer = KNNImputer(n_neighbors=5)\n",
    "df[features] = imputer.fit_transform(df[features])\n",
    "\n",
    "# Checking if outliers are handled\n",
    "print(\"Outliers after KNN Imputation:\\n\", df.isnull().sum())\n",
    "\n",
    "df.to_csv(\"cleaned_data.csv\", index=True)\n"
   ]
  }
 ],
 "metadata": {
  "kernelspec": {
   "display_name": "Python 3",
   "language": "python",
   "name": "python3"
  },
  "language_info": {
   "codemirror_mode": {
    "name": "ipython",
    "version": 3
   },
   "file_extension": ".py",
   "mimetype": "text/x-python",
   "name": "python",
   "nbconvert_exporter": "python",
   "pygments_lexer": "ipython3",
   "version": "3.11.0"
  }
 },
 "nbformat": 4,
 "nbformat_minor": 2
}
