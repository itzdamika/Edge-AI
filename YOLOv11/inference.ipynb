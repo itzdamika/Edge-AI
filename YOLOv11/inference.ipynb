{
 "cells": [
  {
   "cell_type": "code",
   "execution_count": null,
   "id": "62500aab",
   "metadata": {},
   "outputs": [],
   "source": [
    "from ultralytics import YOLO\n",
    "import cv2\n",
    "\n",
    "model = YOLO(\"my_model/train/weights/best.pt\")  \n",
    "cap = cv2.VideoCapture(0)  \n",
    "\n",
    "while cap.isOpened():\n",
    "    ret, frame = cap.read()\n",
    "    if not ret:\n",
    "        break\n",
    "\n",
    "    results = model(frame)  \n",
    "    annotated_frame = results[0].plot()  \n",
    "\n",
    "    cv2.imshow(\"YOLO Detection\", annotated_frame)  \n",
    "\n",
    "    if cv2.waitKey(1) & 0xFF == ord('q'):  \n",
    "        break\n",
    "\n",
    "cap.release()\n",
    "cv2.destroyAllWindows()\n"
   ]
  }
 ],
 "metadata": {
  "language_info": {
   "name": "python"
  }
 },
 "nbformat": 4,
 "nbformat_minor": 5
}
