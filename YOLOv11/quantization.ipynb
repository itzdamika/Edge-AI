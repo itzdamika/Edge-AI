{
 "cells": [
  {
   "cell_type": "code",
   "execution_count": 1,
   "id": "c08f4fa4",
   "metadata": {},
   "outputs": [
    {
     "name": "stderr",
     "output_type": "stream",
     "text": [
      "WARNING:root:Please consider to run pre-processing before quantization. Refer to example: https://github.com/microsoft/onnxruntime-inference-examples/blob/main/quantization/image_classification/cpu/ReadMe.md \n"
     ]
    },
    {
     "name": "stdout",
     "output_type": "stream",
     "text": [
      "Quantized model saved at: ../YOLOV11/runs/detect/train/weights/best_quantized.onnx\n"
     ]
    }
   ],
   "source": [
    "from onnxruntime.quantization import quantize_dynamic, QuantType\n",
    "\n",
    "model_fp32 = \"../YOLOV11/runs/detect/train/weights/best.onnx\"\n",
    "\n",
    "model_quant = \"../YOLOV11/runs/detect/train/weights/best_quantized.onnx\"\n",
    "\n",
    "quantize_dynamic(\n",
    "    model_input=model_fp32,\n",
    "    model_output=model_quant,\n",
    "    weight_type=QuantType.QInt8 \n",
    ")\n",
    "\n",
    "print(f\"Quantized model saved at: {model_quant}\")\n"
   ]
  },
  {
   "cell_type": "code",
   "execution_count": null,
   "id": "778b87db",
   "metadata": {},
   "outputs": [],
   "source": []
  }
 ],
 "metadata": {
  "kernelspec": {
   "display_name": ".venv",
   "language": "python",
   "name": "python3"
  },
  "language_info": {
   "codemirror_mode": {
    "name": "ipython",
    "version": 3
   },
   "file_extension": ".py",
   "mimetype": "text/x-python",
   "name": "python",
   "nbconvert_exporter": "python",
   "pygments_lexer": "ipython3",
   "version": "3.10.2"
  }
 },
 "nbformat": 4,
 "nbformat_minor": 5
}
